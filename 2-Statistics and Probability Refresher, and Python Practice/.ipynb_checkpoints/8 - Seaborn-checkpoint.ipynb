{
 "cells": [
  {
   "cell_type": "markdown",
   "id": "658bd143",
   "metadata": {},
   "source": [
    "## Seaborn\n",
    "Seaborn is a visalization library that sits on top of matplotlib, making it nicer to look at and adding some extra capabilities too.  \n",
    "Let's start by loading up a real dataset on 2019 model-year vehicles, and plotting a histogram just using matplotlib to see the distribution by number of gears."
   ]
  },
  {
   "cell_type": "code",
   "execution_count": 1,
   "id": "f720ca89",
   "metadata": {},
   "outputs": [],
   "source": [
    "# imports\n",
    "%matplotlib inline\n",
    "import pandas as pd"
   ]
  },
  {
   "cell_type": "code",
   "execution_count": 3,
   "id": "f3e9c648",
   "metadata": {},
   "outputs": [
    {
     "data": {
      "text/html": [
       "<div>\n",
       "<style scoped>\n",
       "    .dataframe tbody tr th:only-of-type {\n",
       "        vertical-align: middle;\n",
       "    }\n",
       "\n",
       "    .dataframe tbody tr th {\n",
       "        vertical-align: top;\n",
       "    }\n",
       "\n",
       "    .dataframe thead th {\n",
       "        text-align: right;\n",
       "    }\n",
       "</style>\n",
       "<table border=\"1\" class=\"dataframe\">\n",
       "  <thead>\n",
       "    <tr style=\"text-align: right;\">\n",
       "      <th></th>\n",
       "      <th>Mfr Name</th>\n",
       "      <th>Carline</th>\n",
       "      <th>Eng Displ</th>\n",
       "      <th>Cylinders</th>\n",
       "      <th>Transmission</th>\n",
       "      <th>CityMPG</th>\n",
       "      <th>HwyMPG</th>\n",
       "      <th>CombMPG</th>\n",
       "      <th># Gears</th>\n",
       "    </tr>\n",
       "  </thead>\n",
       "  <tbody>\n",
       "    <tr>\n",
       "      <th>0</th>\n",
       "      <td>aston martin</td>\n",
       "      <td>Vantage V8</td>\n",
       "      <td>4.0</td>\n",
       "      <td>8</td>\n",
       "      <td>Auto(S8)</td>\n",
       "      <td>18</td>\n",
       "      <td>25</td>\n",
       "      <td>21</td>\n",
       "      <td>8</td>\n",
       "    </tr>\n",
       "    <tr>\n",
       "      <th>1</th>\n",
       "      <td>Volkswagen Group of</td>\n",
       "      <td>Chiron</td>\n",
       "      <td>8.0</td>\n",
       "      <td>16</td>\n",
       "      <td>Auto(AM-S7)</td>\n",
       "      <td>9</td>\n",
       "      <td>14</td>\n",
       "      <td>11</td>\n",
       "      <td>7</td>\n",
       "    </tr>\n",
       "    <tr>\n",
       "      <th>2</th>\n",
       "      <td>General Motors</td>\n",
       "      <td>CORVETTE</td>\n",
       "      <td>6.2</td>\n",
       "      <td>8</td>\n",
       "      <td>Auto(S8)</td>\n",
       "      <td>12</td>\n",
       "      <td>20</td>\n",
       "      <td>15</td>\n",
       "      <td>8</td>\n",
       "    </tr>\n",
       "    <tr>\n",
       "      <th>3</th>\n",
       "      <td>General Motors</td>\n",
       "      <td>CORVETTE</td>\n",
       "      <td>6.2</td>\n",
       "      <td>8</td>\n",
       "      <td>Auto(S8)</td>\n",
       "      <td>15</td>\n",
       "      <td>25</td>\n",
       "      <td>18</td>\n",
       "      <td>8</td>\n",
       "    </tr>\n",
       "    <tr>\n",
       "      <th>4</th>\n",
       "      <td>General Motors</td>\n",
       "      <td>CORVETTE</td>\n",
       "      <td>6.2</td>\n",
       "      <td>8</td>\n",
       "      <td>Auto(S8)</td>\n",
       "      <td>14</td>\n",
       "      <td>23</td>\n",
       "      <td>17</td>\n",
       "      <td>8</td>\n",
       "    </tr>\n",
       "  </tbody>\n",
       "</table>\n",
       "</div>"
      ],
      "text/plain": [
       "              Mfr Name     Carline  Eng Displ  Cylinders Transmission  \\\n",
       "0         aston martin  Vantage V8        4.0          8     Auto(S8)   \n",
       "1  Volkswagen Group of      Chiron        8.0         16  Auto(AM-S7)   \n",
       "2       General Motors    CORVETTE        6.2          8     Auto(S8)   \n",
       "3       General Motors    CORVETTE        6.2          8     Auto(S8)   \n",
       "4       General Motors    CORVETTE        6.2          8     Auto(S8)   \n",
       "\n",
       "   CityMPG  HwyMPG  CombMPG  # Gears  \n",
       "0       18      25       21        8  \n",
       "1        9      14       11        7  \n",
       "2       12      20       15        8  \n",
       "3       15      25       18        8  \n",
       "4       14      23       17        8  "
      ]
     },
     "execution_count": 3,
     "metadata": {},
     "output_type": "execute_result"
    }
   ],
   "source": [
    "# Reading data and exploring data\n",
    "df = pd.read_csv(\"http://media.sundog-soft.com/SelfDriving/FuelEfficiency.csv\")\n",
    "df.head()"
   ]
  },
  {
   "cell_type": "code",
   "execution_count": null,
   "id": "153b6a5b",
   "metadata": {},
   "outputs": [],
   "source": [
    "# Plot bar - Gears\n",
    "gear_counts = df['# Gears'].value_counts()\n",
    "gear_counts.plot(kind='bar')"
   ]
  }
 ],
 "metadata": {
  "kernelspec": {
   "display_name": "Python 3 (ipykernel)",
   "language": "python",
   "name": "python3"
  },
  "language_info": {
   "codemirror_mode": {
    "name": "ipython",
    "version": 3
   },
   "file_extension": ".py",
   "mimetype": "text/x-python",
   "name": "python",
   "nbconvert_exporter": "python",
   "pygments_lexer": "ipython3",
   "version": "3.9.12"
  }
 },
 "nbformat": 4,
 "nbformat_minor": 5
}
