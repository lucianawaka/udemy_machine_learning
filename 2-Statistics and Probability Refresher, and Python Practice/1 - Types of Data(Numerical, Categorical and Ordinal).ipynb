{
 "cells": [
  {
   "cell_type": "markdown",
   "metadata": {},
   "source": [
    "### Major Types of Data\n",
    "<ol>\n",
    "<li>Numerical</li>\n",
    "<li>Categorical</li>\n",
    "<li>Ordinal</li>\n",
    "</ol>"
   ]
  },
  {
   "cell_type": "markdown",
   "metadata": {},
   "source": [
    "### 1. Numerical"
   ]
  },
  {
   "cell_type": "markdown",
   "metadata": {},
   "source": [
    "#### Discrete Data\n",
    "<p>Integer based, often counts of some event.</p>\n",
    "\n",
    "#### Continuous Data\n",
    "<p>Has an infinite number of possible values.</p>\n"
   ]
  },
  {
   "cell_type": "markdown",
   "metadata": {},
   "source": [
    "### 2 Categorical\n",
    "<p> Qualitative data that has no inherent mathematical meaning.</p>\n",
    "<ul>\n",
    "<li>Gender</li>\n",
    "<li>Yes/No(binary data)</li>\n",
    "<li>Race</li>\n",
    "<li>Stateof Residence</li>\n",
    "<li>Product Category</li>\n",
    "</ul>"
   ]
  },
  {
   "cell_type": "markdown",
   "metadata": {},
   "source": [
    "### 3 Ordinal\n",
    "<p>A mixture of numerical and categorical</p>\n",
    "<p><b>Categorical data</b> that has matematical meaning.</p>\n",
    "<ul>\n",
    "<li>Movies ratings on a <b>1-5</b> scale.</li>\n",
    "<li>1 means it's a worse movie than a 2.</li>\n",
    "</ul>"
   ]
  },
  {
   "cell_type": "code",
   "execution_count": null,
   "metadata": {},
   "outputs": [],
   "source": []
  }
 ],
 "metadata": {
  "kernelspec": {
   "display_name": "Python 3",
   "language": "python",
   "name": "python3"
  },
  "language_info": {
   "codemirror_mode": {
    "name": "ipython",
    "version": 3
   },
   "file_extension": ".py",
   "mimetype": "text/x-python",
   "name": "python",
   "nbconvert_exporter": "python",
   "pygments_lexer": "ipython3",
   "version": "3.7.3"
  }
 },
 "nbformat": 4,
 "nbformat_minor": 2
}
