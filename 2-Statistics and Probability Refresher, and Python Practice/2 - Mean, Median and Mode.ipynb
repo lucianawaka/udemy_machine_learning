{
 "cells": [
  {
   "cell_type": "markdown",
   "metadata": {},
   "source": [
    "### Mean, Median and Mode"
   ]
  },
  {
   "cell_type": "markdown",
   "metadata": {},
   "source": [
    "### 1 Mean\n",
    "<p>Average</p>"
   ]
  },
  {
   "cell_type": "markdown",
   "metadata": {},
   "source": [
    "### 2 Median\n",
    "<p>Sort the value, and take the value at the midpoint.</p>\n",
    "<p>Ex:</p>\n",
    "<p>0, 2, 3, 2, 1, 0, 0, 2, 0</p>\n",
    "<p>Sort it:</p>\n",
    "<p>0, 0, 0, 0, <b>1</b>, 2, 2, 2, 3</p>\n",
    "<p><b>Even</b> numbers take the <b>mean</b> of the two numbers.</p>"
   ]
  },
  {
   "cell_type": "markdown",
   "metadata": {},
   "source": [
    "### 3 Mode (Discrete Data)\n",
    "<p> The most <b>common</b> values in a data set.</p>\n",
    "<p> How many of each value are there?</p>\n",
    "<p> 0, 2, 3, 2, 1, 0, 0, 2, 0</p>\n",
    "<p>0:4, 1:1, 2:3, 3:1</p>\n",
    "<p>The MODE is <b>0</b></p>"
   ]
  },
  {
   "cell_type": "markdown",
   "metadata": {},
   "source": [
    "### Some code in Python"
   ]
  },
  {
   "cell_type": "code",
   "execution_count": 7,
   "metadata": {},
   "outputs": [],
   "source": [
    "import numpy as np"
   ]
  },
  {
   "cell_type": "markdown",
   "metadata": {},
   "source": [
    "### Mean"
   ]
  },
  {
   "cell_type": "code",
   "execution_count": 8,
   "metadata": {},
   "outputs": [
    {
     "data": {
      "text/plain": [
       "27017.411402260364"
      ]
     },
     "execution_count": 8,
     "metadata": {},
     "output_type": "execute_result"
    }
   ],
   "source": [
    "incomes = np.random.normal(27000, 15000, 10000)\n",
    "np.mean(incomes)"
   ]
  },
  {
   "cell_type": "code",
   "execution_count": 17,
   "metadata": {},
   "outputs": [],
   "source": [
    "incomes_2 = [14000,9500,7000,6000,8000,10000,15000,20000]"
   ]
  },
  {
   "cell_type": "code",
   "execution_count": 18,
   "metadata": {},
   "outputs": [
    {
     "data": {
      "text/plain": [
       "11187.5"
      ]
     },
     "execution_count": 18,
     "metadata": {},
     "output_type": "execute_result"
    }
   ],
   "source": [
    "np.mean(incomes_2)"
   ]
  },
  {
   "cell_type": "code",
   "execution_count": 19,
   "metadata": {},
   "outputs": [],
   "source": [
    "%matplotlib inline\n",
    "import matplotlib.pyplot as plt"
   ]
  },
  {
   "cell_type": "code",
   "execution_count": 27,
   "metadata": {},
   "outputs": [
    {
     "data": {
      "image/png": "[encoded data removed]",
      "text/plain": [
       "<Figure size 432x288 with 1 Axes>"
      ]
     },
     "metadata": {
      "needs_background": "light"
     },
     "output_type": "display_data"
    }
   ],
   "source": [
    "plt.hist(incomes, 50)\n",
    "plt.show()"
   ]
  },
  {
   "cell_type": "markdown",
   "metadata": {},
   "source": [
    "### Median"
   ]
  },
  {
   "cell_type": "code",
   "execution_count": 28,
   "metadata": {},
   "outputs": [
    {
     "data": {
      "text/plain": [
       "27110.13200495849"
      ]
     },
     "execution_count": 28,
     "metadata": {},
     "output_type": "execute_result"
    }
   ],
   "source": [
    "np.median(incomes)"
   ]
  },
  {
   "cell_type": "code",
   "execution_count": 35,
   "metadata": {},
   "outputs": [],
   "source": [
    "incomes = np.append(incomes, [1000000000])"
   ]
  },
  {
   "cell_type": "code",
   "execution_count": 36,
   "metadata": {},
   "outputs": [
    {
     "data": {
      "text/plain": [
       "137976.01859668136"
      ]
     },
     "execution_count": 36,
     "metadata": {},
     "output_type": "execute_result"
    }
   ],
   "source": [
    "np.mean(incomes)"
   ]
  },
  {
   "cell_type": "code",
   "execution_count": 37,
   "metadata": {},
   "outputs": [
    {
     "data": {
      "text/plain": [
       "27115.372633011957"
      ]
     },
     "execution_count": 37,
     "metadata": {},
     "output_type": "execute_result"
    }
   ],
   "source": [
    "np.median(incomes)"
   ]
  },
  {
   "cell_type": "markdown",
   "metadata": {},
   "source": [
    "### Mode"
   ]
  },
  {
   "cell_type": "code",
   "execution_count": 45,
   "metadata": {},
   "outputs": [
    {
     "data": {
      "text/plain": [
       "array([23, 68, 76, 84, 51, 83, 28, 50, 70, 63, 69, 69, 18, 18, 34, 84, 83,\n",
       "       44, 56, 45, 71, 74, 73, 32, 23, 34, 72, 65, 28, 65, 61, 53, 65, 23,\n",
       "       34, 30, 52, 88, 78, 87, 23, 84, 32, 51, 40, 60, 31, 84, 30, 74, 74,\n",
       "       79, 46, 36, 57, 24, 46, 88, 73, 75, 71, 40, 47, 87, 69, 80, 84, 89,\n",
       "       30, 58, 38, 23, 48, 55, 44, 19, 46, 72, 63, 82, 53, 27, 88, 75, 47,\n",
       "       33, 58, 26, 83, 34, 80, 35, 62, 67, 26, 29, 58, 78, 35, 81, 59, 84,\n",
       "       84, 65, 71, 52, 74, 33, 41, 61, 64, 50, 86, 21, 49, 69, 69, 84, 20,\n",
       "       50, 86, 42, 45, 25, 44, 51, 85, 23, 36, 49, 45, 87, 40, 34, 85, 22,\n",
       "       73, 59, 31, 39, 22, 30, 64, 67, 64, 87, 61, 34, 84, 58, 19, 27, 35,\n",
       "       44, 35, 71, 26, 64, 28, 80, 68, 73, 57, 18, 80, 69, 30, 63, 42, 33,\n",
       "       44, 39, 59, 26, 18, 75, 40, 18, 53, 69, 55, 88, 71, 53, 39, 85, 89,\n",
       "       39, 89, 68, 35, 74, 35, 61, 51, 45, 57, 82, 79, 59, 68, 24, 64, 69,\n",
       "       86, 87, 54, 29, 66, 37, 71, 75, 60, 75, 51, 86, 85, 33, 70, 59, 68,\n",
       "       32, 67, 19, 52, 65, 26, 29, 29, 30, 79, 33, 75, 85, 20, 21, 79, 80,\n",
       "       70, 77, 79, 45, 55, 62, 35, 63, 81, 73, 86, 55, 58, 84, 81, 48, 40,\n",
       "       54, 74, 53, 31, 40, 36, 39, 47, 18, 53, 34, 70, 20, 41, 36, 31, 76,\n",
       "       77, 55, 77, 33, 26, 45, 63, 25, 63, 19, 69, 80, 27, 21, 49, 45, 84,\n",
       "       46, 61, 38, 89, 79, 82, 71, 38, 63, 82, 20, 88, 36, 27, 87, 57, 37,\n",
       "       56, 86, 40, 48, 57, 47, 59, 73, 47, 46, 86, 88, 63, 76, 23, 89, 51,\n",
       "       82, 47, 42, 58, 42, 71, 36, 40, 25, 79, 65, 75, 55, 70, 26, 41, 78,\n",
       "       19, 31, 28, 79, 66, 34, 74, 76, 21, 62, 30, 89, 70, 61, 22, 38, 53,\n",
       "       25, 74, 73, 20, 45, 83, 34, 54, 80, 86, 34, 22, 58, 51, 50, 51, 56,\n",
       "       87, 76, 69, 67, 33, 60, 86, 18, 86, 58, 87, 68, 72, 45, 73, 29, 69,\n",
       "       41, 46, 67, 63, 66, 33, 53, 81, 69, 89, 77, 26, 52, 68, 47, 37, 43,\n",
       "       41, 59, 44, 27, 68, 89, 45, 35, 84, 32, 47, 39, 44, 32, 25, 24, 63,\n",
       "       73, 40, 81, 44, 37, 63, 77, 26, 65, 18, 52, 25, 73, 29, 76, 50, 19,\n",
       "       65, 29, 45, 66, 76, 69, 22, 75, 79, 65, 33, 74, 66, 84, 41, 54, 18,\n",
       "       45, 63, 70, 54, 57, 53, 73, 86, 48, 61, 74, 55, 52, 36, 89, 86, 55,\n",
       "       72, 67, 69, 38, 41, 53, 73, 87, 45, 40, 45, 47, 89, 51, 58, 73, 87,\n",
       "       37, 23, 88, 25, 22, 22, 49])"
      ]
     },
     "execution_count": 45,
     "metadata": {},
     "output_type": "execute_result"
    }
   ],
   "source": [
    "## Age data of 500 people\n",
    "ages = np.random.randint(18, high=90, size=500)\n",
    "ages"
   ]
  },
  {
   "cell_type": "code",
   "execution_count": 46,
   "metadata": {},
   "outputs": [
    {
     "data": {
      "text/plain": [
       "55.06"
      ]
     },
     "execution_count": 46,
     "metadata": {},
     "output_type": "execute_result"
    }
   ],
   "source": [
    "ages.mean()\n",
    "## or\n",
    "np.mean(ages)"
   ]
  },
  {
   "cell_type": "code",
   "execution_count": 47,
   "metadata": {},
   "outputs": [
    {
     "data": {
      "text/plain": [
       "55.0"
      ]
     },
     "execution_count": 47,
     "metadata": {},
     "output_type": "execute_result"
    }
   ],
   "source": [
    "np.median(ages)"
   ]
  },
  {
   "cell_type": "markdown",
   "metadata": {},
   "source": [
    "### Scipy pakage - contains MODE"
   ]
  },
  {
   "cell_type": "code",
   "execution_count": 48,
   "metadata": {},
   "outputs": [
    {
     "data": {
      "text/plain": [
       "ModeResult(mode=array([45]), count=array([14]))"
      ]
     },
     "execution_count": 48,
     "metadata": {},
     "output_type": "execute_result"
    }
   ],
   "source": [
    "from scipy import stats\n",
    "stats.mode(ages)"
   ]
  },
  {
   "cell_type": "code",
   "execution_count": null,
   "metadata": {},
   "outputs": [],
   "source": []
  }
 ],
 "metadata": {
  "kernelspec": {
   "display_name": "Python 3",
   "language": "python",
   "name": "python3"
  },
  "language_info": {
   "codemirror_mode": {
    "name": "ipython",
    "version": 3
   },
   "file_extension": ".py",
   "mimetype": "text/x-python",
   "name": "python",
   "nbconvert_exporter": "python",
   "pygments_lexer": "ipython3",
   "version": "3.7.3"
  }
 },
 "nbformat": 4,
 "nbformat_minor": 2
}
