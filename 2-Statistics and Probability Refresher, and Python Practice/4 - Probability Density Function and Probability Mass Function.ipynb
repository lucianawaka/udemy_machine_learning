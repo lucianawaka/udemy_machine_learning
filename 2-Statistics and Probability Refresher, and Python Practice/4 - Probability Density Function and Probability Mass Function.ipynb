{
 "cells": [
  {
   "cell_type": "markdown",
   "metadata": {},
   "source": [
    "### Normal Distribution\n",
    "<ul>\n",
    "    <li>(0.1%) <b>-3σ</b>,(2,1%) <b>-2σ</b>,(13.6%) <b>-1σ</b>(34.1%), <b>0</b> ,(34.1%)<b>1σ</b>,(13.6%)<b> 2σ</b>,(2,1%),<b> 3σ</b>(0.1%) </li>\n",
    "</ul>"
   ]
  },
  {
   "cell_type": "code",
   "execution_count": null,
   "metadata": {},
   "outputs": [],
   "source": []
  }
 ],
 "metadata": {
  "kernelspec": {
   "display_name": "Python 3",
   "language": "python",
   "name": "python3"
  },
  "language_info": {
   "codemirror_mode": {
    "name": "ipython",
    "version": 3
   },
   "file_extension": ".py",
   "mimetype": "text/x-python",
   "name": "python",
   "nbconvert_exporter": "python",
   "pygments_lexer": "ipython3",
   "version": "3.7.3"
  }
 },
 "nbformat": 4,
 "nbformat_minor": 2
}
