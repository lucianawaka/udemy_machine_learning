{
 "cells": [
  {
   "cell_type": "markdown",
   "id": "5cde239e",
   "metadata": {},
   "source": [
    "# Multi-Level Models"
   ]
  },
  {
   "cell_type": "code",
   "execution_count": 1,
   "id": "51b9e924",
   "metadata": {},
   "outputs": [],
   "source": [
    "# Look the Higher level and think about the influence of \n",
    "# What you want to predict"
   ]
  },
  {
   "cell_type": "code",
   "execution_count": null,
   "id": "53069437",
   "metadata": {},
   "outputs": [],
   "source": []
  }
 ],
 "metadata": {
  "kernelspec": {
   "display_name": "Python 3 (ipykernel)",
   "language": "python",
   "name": "python3"
  },
  "language_info": {
   "codemirror_mode": {
    "name": "ipython",
    "version": 3
   },
   "file_extension": ".py",
   "mimetype": "text/x-python",
   "name": "python",
   "nbconvert_exporter": "python",
   "pygments_lexer": "ipython3",
   "version": "3.9.12"
  }
 },
 "nbformat": 4,
 "nbformat_minor": 5
}
