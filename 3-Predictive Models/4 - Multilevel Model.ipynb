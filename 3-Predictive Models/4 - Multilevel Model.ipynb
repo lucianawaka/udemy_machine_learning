{
 "cells": [
  {
   "cell_type": "markdown",
   "id": "a76f3427",
   "metadata": {},
   "source": [
    "# Multi-Level Models"
   ]
  },
  {
   "cell_type": "code",
   "execution_count": 1,
   "id": "0993844d",
   "metadata": {},
   "outputs": [],
   "source": [
    "# Look the Higher level and think about the influence of \n",
    "# What you want to predict"
   ]
  },
  {
   "cell_type": "code",
   "execution_count": null,
   "id": "362f7084",
   "metadata": {},
   "outputs": [],
   "source": []
  }
 ],
 "metadata": {
  "kernelspec": {
   "display_name": "Python 3 (ipykernel)",
   "language": "python",
   "name": "python3"
  },
  "language_info": {
   "codemirror_mode": {
    "name": "ipython",
    "version": 3
   },
   "file_extension": ".py",
   "mimetype": "text/x-python",
   "name": "python",
   "nbconvert_exporter": "python",
   "pygments_lexer": "ipython3",
   "version": "3.9.12"
  }
 },
 "nbformat": 4,
 "nbformat_minor": 5
}
