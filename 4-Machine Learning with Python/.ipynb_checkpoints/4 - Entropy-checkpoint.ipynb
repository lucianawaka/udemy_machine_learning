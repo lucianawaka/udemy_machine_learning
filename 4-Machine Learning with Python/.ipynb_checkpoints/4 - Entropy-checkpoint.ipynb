{
 "cells": [
  {
   "cell_type": "markdown",
   "id": "9a9f32e7",
   "metadata": {},
   "source": [
    "### How much the data is the same or not"
   ]
  },
  {
   "cell_type": "code",
   "execution_count": 1,
   "id": "cb208dcd",
   "metadata": {},
   "outputs": [],
   "source": [
    "from IPython.display import Image"
   ]
  },
  {
   "cell_type": "code",
   "execution_count": 4,
   "id": "17c9a28e",
   "metadata": {},
   "outputs": [
    {
     "data": {
      "text/html": [
       "<img src=\"entropy.png\" width=\"400\" height=\"500\"/>"
      ],
      "text/plain": [
       "<IPython.core.display.Image object>"
      ]
     },
     "execution_count": 4,
     "metadata": {},
     "output_type": "execute_result"
    }
   ],
   "source": [
    "Image(url='entropy.png', width=400, height=500)"
   ]
  },
  {
   "cell_type": "code",
   "execution_count": 5,
   "id": "33e27fba",
   "metadata": {},
   "outputs": [],
   "source": [
    "from scipy.stats import entropy as en"
   ]
  },
  {
   "cell_type": "code",
   "execution_count": 6,
   "id": "a961a525",
   "metadata": {},
   "outputs": [],
   "source": [
    "## My data for entropy\n",
    "import numpy as np\n",
    "import pandas as pd\n",
    "age = [np.random.uniform(15,80) for x in range(100)]\n",
    "salary = [np.random.uniform(15000, 220000) for x in range(100)]"
   ]
  },
  {
   "cell_type": "code",
   "execution_count": 7,
   "id": "a5bb0e26",
   "metadata": {},
   "outputs": [],
   "source": [
    "df = pd.DataFrame({'age':age, 'salary':salary})"
   ]
  },
  {
   "cell_type": "code",
   "execution_count": 8,
   "id": "c3247cb6",
   "metadata": {},
   "outputs": [
    {
     "data": {
      "text/plain": [
       "4.60517018598809"
      ]
     },
     "execution_count": 8,
     "metadata": {},
     "output_type": "execute_result"
    }
   ],
   "source": [
    "en(df['age'].value_counts())"
   ]
  },
  {
   "cell_type": "code",
   "execution_count": 9,
   "id": "bdea1ae8",
   "metadata": {},
   "outputs": [
    {
     "data": {
      "text/plain": [
       "4.60517018598809"
      ]
     },
     "execution_count": 9,
     "metadata": {},
     "output_type": "execute_result"
    }
   ],
   "source": [
    "en(df['salary'].value_counts())"
   ]
  },
  {
   "cell_type": "code",
   "execution_count": null,
   "id": "03ace52e",
   "metadata": {},
   "outputs": [],
   "source": []
  }
 ],
 "metadata": {
  "kernelspec": {
   "display_name": "Python 3 (ipykernel)",
   "language": "python",
   "name": "python3"
  },
  "language_info": {
   "codemirror_mode": {
    "name": "ipython",
    "version": 3
   },
   "file_extension": ".py",
   "mimetype": "text/x-python",
   "name": "python",
   "nbconvert_exporter": "python",
   "pygments_lexer": "ipython3",
   "version": "3.9.12"
  }
 },
 "nbformat": 4,
 "nbformat_minor": 5
}
