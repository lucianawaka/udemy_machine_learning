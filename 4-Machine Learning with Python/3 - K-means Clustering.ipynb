{
 "cells": [
  {
   "cell_type": "markdown",
   "id": "1f791502",
   "metadata": {},
   "source": [
    "### K-means - Unsupervised Learning\n",
    "Find the centroid point in each K.  \n",
    "Ex: k =3 - the algoritm will find the centroid of each group.  \n",
    "Later you have to label the groups. K-means will not do this for you."
   ]
  },
  {
   "cell_type": "code",
   "execution_count": 1,
   "id": "1d8beda1",
   "metadata": {},
   "outputs": [],
   "source": [
    "from numpy import random, array\n",
    "\n",
    "#Create fake income/age clusters for N people in k clusters\n",
    "def createClusteredData(N, k):\n",
    "    random.seed(10)\n",
    "    pointsPerCluster = float(N)/k\n",
    "    X = []\n",
    "    for i in range (k):\n",
    "        incomeCentroid = random.uniform(20000.0, 200000.0)\n",
    "        ageCentroid = random.uniform(20.0, 70.0)\n",
    "        for j in range(int(pointsPerCluster)):\n",
    "            X.append([random.normal(incomeCentroid, 10000.0), random.normal(ageCentroid, 2.0)])\n",
    "    X = array(X)\n",
    "    return X"
   ]
  },
  {
   "cell_type": "code",
   "execution_count": 2,
   "id": "cc246589",
   "metadata": {},
   "outputs": [
    {
     "name": "stderr",
     "output_type": "stream",
     "text": [
      "C:\\Users\\lucia\\AppData\\Local\\Temp\\ipykernel_1220\\3885971932.py:6: DeprecationWarning: `np.float` is a deprecated alias for the builtin `float`. To silence this warning, use `float` by itself. Doing this will not modify any behavior and is safe. If you specifically wanted the numpy scalar type, use `np.float64` here.\n",
      "Deprecated in NumPy 1.20; for more details and guidance: https://numpy.org/devdocs/release/1.20.0-notes.html#deprecations\n",
      "  from numpy import random, float\n"
     ]
    },
    {
     "name": "stdout",
     "output_type": "stream",
     "text": [
      "[0 0 0 0 0 0 0 0 0 0 0 0 0 0 0 0 0 0 0 0 1 1 1 1 1 1 1 1 1 1 1 1 1 1 1 1 1\n",
      " 1 1 1 4 4 4 4 4 4 4 4 4 4 4 4 4 4 4 4 4 4 4 2 3 3 3 3 3 3 3 3 3 3 3 3 3 3\n",
      " 3 3 3 3 3 3 2 2 2 2 2 2 2 2 2 2 2 2 2 2 2 2 2 2 2 2]\n"
     ]
    },
    {
     "data": {
      "image/png": "[encoded data removed]",
      "text/plain": [
       "<Figure size 576x432 with 1 Axes>"
      ]
     },
     "metadata": {
      "needs_background": "light"
     },
     "output_type": "display_data"
    }
   ],
   "source": [
    "%matplotlib inline\n",
    "\n",
    "from sklearn.cluster import KMeans\n",
    "import matplotlib.pyplot as plt\n",
    "from sklearn.preprocessing import scale\n",
    "from numpy import random, float\n",
    "\n",
    "data = createClusteredData(100, 5)\n",
    "\n",
    "model = KMeans(n_clusters=5)\n",
    "\n",
    "# Note I'm scaling the data to normalize it! Important for good results.\n",
    "model = model.fit(scale(data))\n",
    "\n",
    "# We can look at the clusters each data point was assigned to\n",
    "print(model.labels_)\n",
    "\n",
    "# And we'll visualize it:\n",
    "plt.figure(figsize=(8, 6))\n",
    "plt.scatter(data[:,0], data[:,1], c=model.labels_.astype(float))\n",
    "plt.show()"
   ]
  },
  {
   "cell_type": "code",
   "execution_count": 30,
   "id": "9162869e",
   "metadata": {},
   "outputs": [],
   "source": [
    "## My data for k-Means\n",
    "import numpy as np\n",
    "import pandas as pd\n",
    "age = [np.random.uniform(15,80) for x in range(100)]\n",
    "salary = [np.random.uniform(15000, 220000) for x in range(100)]"
   ]
  },
  {
   "cell_type": "code",
   "execution_count": 23,
   "id": "7f699fb5",
   "metadata": {},
   "outputs": [],
   "source": [
    "age_scaled = scale(age)"
   ]
  },
  {
   "cell_type": "code",
   "execution_count": 24,
   "id": "75369631",
   "metadata": {},
   "outputs": [
    {
     "data": {
      "text/plain": [
       "array([ 0.18908376, -0.12387354,  0.15460696, -0.24910908,  0.63229478,\n",
       "        0.71764737,  0.85053775, -1.65452863,  0.58037922, -0.12200681,\n",
       "       -1.43557363,  0.35518895,  1.1345799 ,  0.77219282, -0.66427932,\n",
       "       -1.54815655, -1.65449997,  0.16333254, -1.22417174, -0.85128092,\n",
       "       -0.96337665, -1.71714846, -1.25610526, -1.66644149,  1.63597041,\n",
       "       -0.52869056,  1.09120659, -0.34839631, -0.90252436, -0.95989661,\n",
       "        0.90883311,  0.55397723,  0.67616815,  1.18767625,  0.03416789,\n",
       "       -0.24202791,  0.1446006 ,  0.48687197,  0.96261706,  1.32394195,\n",
       "       -0.70768901, -1.31211319,  0.83153113,  0.05083321,  0.94932531,\n",
       "       -0.28677234,  1.13782708,  0.08748564, -0.91212298, -1.57937597,\n",
       "       -1.46421783, -1.17767254, -0.25427454,  1.04058584,  1.38711265,\n",
       "        0.22243673, -0.77022586,  0.48614568,  0.43784038, -0.03019482,\n",
       "        1.57924659,  1.02580379,  1.45022957,  0.3542793 ,  1.63655937,\n",
       "        0.7063277 , -1.75438404, -0.7807081 ,  1.146718  , -0.24060849,\n",
       "       -1.18167968, -1.38556107,  0.99510954,  0.47610807, -0.0365658 ,\n",
       "       -0.78943633,  0.43357316, -0.50131971,  0.09509608,  0.87034125,\n",
       "        1.14145336, -1.41890005, -0.0056111 ,  0.46420569, -1.25129625,\n",
       "       -1.77842098,  1.58444804,  1.0298986 , -0.82975308, -0.81225735,\n",
       "       -1.36412686, -0.10992684,  1.46340749,  1.40287793, -0.93493786,\n",
       "       -0.40894176,  1.59557454, -0.82434606,  1.48273377,  0.89453751])"
      ]
     },
     "execution_count": 24,
     "metadata": {},
     "output_type": "execute_result"
    }
   ],
   "source": [
    "age_scaled"
   ]
  },
  {
   "cell_type": "code",
   "execution_count": 25,
   "id": "8e1770e5",
   "metadata": {},
   "outputs": [
    {
     "data": {
      "text/plain": [
       "(1.6365593713599467, -1.7784209793332852)"
      ]
     },
     "execution_count": 25,
     "metadata": {},
     "output_type": "execute_result"
    }
   ],
   "source": [
    "age_scaled.max(), age_scaled.min()"
   ]
  },
  {
   "cell_type": "code",
   "execution_count": 28,
   "id": "203ad2fe",
   "metadata": {},
   "outputs": [
    {
     "data": {
      "text/plain": [
       "(78.83025456230158, 15.114377191783385)"
      ]
     },
     "execution_count": 28,
     "metadata": {},
     "output_type": "execute_result"
    }
   ],
   "source": [
    "max(age), min(age)"
   ]
  },
  {
   "cell_type": "code",
   "execution_count": 27,
   "id": "6d1c54ae",
   "metadata": {},
   "outputs": [
    {
     "data": {
      "text/plain": [
       "numpy.ndarray"
      ]
     },
     "execution_count": 27,
     "metadata": {},
     "output_type": "execute_result"
    }
   ],
   "source": [
    "type(age_scaled)"
   ]
  },
  {
   "cell_type": "code",
   "execution_count": 29,
   "id": "d8ded290",
   "metadata": {},
   "outputs": [
    {
     "data": {
      "text/plain": [
       "list"
      ]
     },
     "execution_count": 29,
     "metadata": {},
     "output_type": "execute_result"
    }
   ],
   "source": [
    "type(age)"
   ]
  },
  {
   "cell_type": "code",
   "execution_count": 31,
   "id": "f15a3630",
   "metadata": {},
   "outputs": [],
   "source": [
    "df = pd.DataFrame({'age':age, 'salary':salary})"
   ]
  },
  {
   "cell_type": "code",
   "execution_count": 34,
   "id": "71f6851a",
   "metadata": {},
   "outputs": [
    {
     "data": {
      "text/html": [
       "<div>\n",
       "<style scoped>\n",
       "    .dataframe tbody tr th:only-of-type {\n",
       "        vertical-align: middle;\n",
       "    }\n",
       "\n",
       "    .dataframe tbody tr th {\n",
       "        vertical-align: top;\n",
       "    }\n",
       "\n",
       "    .dataframe thead th {\n",
       "        text-align: right;\n",
       "    }\n",
       "</style>\n",
       "<table border=\"1\" class=\"dataframe\">\n",
       "  <thead>\n",
       "    <tr style=\"text-align: right;\">\n",
       "      <th></th>\n",
       "      <th>age</th>\n",
       "      <th>salary</th>\n",
       "    </tr>\n",
       "  </thead>\n",
       "  <tbody>\n",
       "    <tr>\n",
       "      <th>0</th>\n",
       "      <td>72.506715</td>\n",
       "      <td>164860.666273</td>\n",
       "    </tr>\n",
       "    <tr>\n",
       "      <th>1</th>\n",
       "      <td>71.615323</td>\n",
       "      <td>147883.036725</td>\n",
       "    </tr>\n",
       "    <tr>\n",
       "      <th>2</th>\n",
       "      <td>24.520612</td>\n",
       "      <td>66423.344071</td>\n",
       "    </tr>\n",
       "    <tr>\n",
       "      <th>3</th>\n",
       "      <td>66.297271</td>\n",
       "      <td>61624.977360</td>\n",
       "    </tr>\n",
       "    <tr>\n",
       "      <th>4</th>\n",
       "      <td>74.099446</td>\n",
       "      <td>116642.312460</td>\n",
       "    </tr>\n",
       "  </tbody>\n",
       "</table>\n",
       "</div>"
      ],
      "text/plain": [
       "         age         salary\n",
       "0  72.506715  164860.666273\n",
       "1  71.615323  147883.036725\n",
       "2  24.520612   66423.344071\n",
       "3  66.297271   61624.977360\n",
       "4  74.099446  116642.312460"
      ]
     },
     "execution_count": 34,
     "metadata": {},
     "output_type": "execute_result"
    }
   ],
   "source": [
    "df.head()"
   ]
  },
  {
   "cell_type": "code",
   "execution_count": 44,
   "id": "2cf187e1",
   "metadata": {},
   "outputs": [
    {
     "name": "stdout",
     "output_type": "stream",
     "text": [
      "[0 0 1 2 0 0 3 4 1 1 4 1 3 2 3 2 4 2 0 1 1 1 2 1 3 2 4 3 3 1 4 3 1 3 2 3 1\n",
      " 4 4 2 2 4 0 2 3 1 0 2 4 4 2 2 1 0 3 2 2 2 4 1 2 1 2 4 4 3 4 1 0 1 1 4 1 4\n",
      " 3 2 1 4 1 2 0 2 1 2 2 2 2 2 1 1 2 1 1 4 0 4 1 4 1 3]\n"
     ]
    },
    {
     "data": {
      "image/png": "[encoded data removed]",
      "text/plain": [
       "<Figure size 576x432 with 1 Axes>"
      ]
     },
     "metadata": {
      "needs_background": "light"
     },
     "output_type": "display_data"
    }
   ],
   "source": [
    "model = KMeans(n_clusters=5)\n",
    "\n",
    "# Note I'm scaling the data to normalize it! Important for good results.\n",
    "model = model.fit(scale(df))\n",
    "\n",
    "# We can look at the clusters each data point was assigned to\n",
    "print(model.labels_)\n",
    "\n",
    "# And we'll visualize it:\n",
    "plt.figure(figsize=(8, 6))\n",
    "plt.scatter(df['age'], df['salary'], c=model.labels_.astype(float))\n",
    "plt.show()"
   ]
  },
  {
   "cell_type": "code",
   "execution_count": 38,
   "id": "318a9bcd",
   "metadata": {},
   "outputs": [
    {
     "name": "stdout",
     "output_type": "stream",
     "text": [
      "[2 2 0 3 3 2 1 4 0 0 5 0 1 3 1 7 4 7 2 0 6 6 3 6 1 3 5 1 1 6 5 4 6 1 3 4 6\n",
      " 5 0 3 3 5 2 3 4 0 2 7 5 4 3 3 6 2 1 7 7 7 5 6 3 0 7 4 5 4 4 6 2 0 7 5 7 5\n",
      " 4 7 0 5 6 3 2 7 0 3 7 3 7 3 0 0 3 0 0 5 2 4 0 4 0 4]\n"
     ]
    }
   ],
   "source": [
    "print(model.labels_)"
   ]
  },
  {
   "cell_type": "code",
   "execution_count": 43,
   "id": "1c0ccc54",
   "metadata": {},
   "outputs": [
    {
     "name": "stdout",
     "output_type": "stream",
     "text": [
      "[[-1.092476   -0.59980997]\n",
      " [ 1.2916569   0.73811209]\n",
      " [-1.23047733  0.70441714]\n",
      " [ 1.34972531 -0.95107546]\n",
      " [ 0.34266572  0.45295439]\n",
      " [ 0.45326371 -0.70146362]\n",
      " [-0.42788326  1.06960865]\n",
      " [-0.47491884 -1.32218348]\n",
      " [ 1.39971685  1.43346653]\n",
      " [-1.292233   -1.08591999]\n",
      " [ 0.65482018 -1.45189662]\n",
      " [ 0.17648355  1.38027851]\n",
      " [ 1.19509194 -0.25939775]\n",
      " [-0.58910112 -0.23941282]\n",
      " [-1.05241158  1.57577537]]\n"
     ]
    }
   ],
   "source": [
    "print(model.cluster_centers_)"
   ]
  },
  {
   "cell_type": "code",
   "execution_count": null,
   "id": "8e78f4ec",
   "metadata": {},
   "outputs": [],
   "source": []
  }
 ],
 "metadata": {
  "kernelspec": {
   "display_name": "Python 3 (ipykernel)",
   "language": "python",
   "name": "python3"
  },
  "language_info": {
   "codemirror_mode": {
    "name": "ipython",
    "version": 3
   },
   "file_extension": ".py",
   "mimetype": "text/x-python",
   "name": "python",
   "nbconvert_exporter": "python",
   "pygments_lexer": "ipython3",
   "version": "3.9.12"
  }
 },
 "nbformat": 4,
 "nbformat_minor": 5
}
