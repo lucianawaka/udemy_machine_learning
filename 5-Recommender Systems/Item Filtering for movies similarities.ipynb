{
 "cells": [
  {
   "cell_type": "markdown",
   "id": "50d5b300",
   "metadata": {},
   "source": [
    "### Finding Similarities between movies"
   ]
  },
  {
   "cell_type": "code",
   "execution_count": 1,
   "id": "f6f4933c",
   "metadata": {},
   "outputs": [],
   "source": [
    "# Libs\n",
    "import pandas as pd"
   ]
  },
  {
   "cell_type": "markdown",
   "id": "b8ee5d58",
   "metadata": {},
   "source": [
    "### Load data from csvs"
   ]
  },
  {
   "cell_type": "code",
   "execution_count": 3,
   "id": "1a01f5fb",
   "metadata": {},
   "outputs": [],
   "source": [
    "r_cols  = ['user_id', 'movie_id', 'rating']\n",
    "ratings = pd.read_csv('data/u.data', sep='\\t', names=r_cols, usecols=range(3)) \n",
    "\n",
    "m_cols = ['movie_id', 'title']\n",
    "movies = pd.read_csv('data/u.item', sep='|', names=m_cols, usecols=range(2) , encoding='latin-1')"
   ]
  },
  {
   "cell_type": "markdown",
   "id": "87f64b11",
   "metadata": {},
   "source": [
    "### Merge dataset"
   ]
  },
  {
   "cell_type": "code",
   "execution_count": 15,
   "id": "18190a9b",
   "metadata": {},
   "outputs": [
    {
     "data": {
      "text/html": [
       "<div>\n",
       "<style scoped>\n",
       "    .dataframe tbody tr th:only-of-type {\n",
       "        vertical-align: middle;\n",
       "    }\n",
       "\n",
       "    .dataframe tbody tr th {\n",
       "        vertical-align: top;\n",
       "    }\n",
       "\n",
       "    .dataframe thead th {\n",
       "        text-align: right;\n",
       "    }\n",
       "</style>\n",
       "<table border=\"1\" class=\"dataframe\">\n",
       "  <thead>\n",
       "    <tr style=\"text-align: right;\">\n",
       "      <th></th>\n",
       "      <th>movie_id</th>\n",
       "      <th>title</th>\n",
       "      <th>user_id</th>\n",
       "      <th>rating</th>\n",
       "    </tr>\n",
       "  </thead>\n",
       "  <tbody>\n",
       "    <tr>\n",
       "      <th>0</th>\n",
       "      <td>1</td>\n",
       "      <td>Toy Story (1995)</td>\n",
       "      <td>308</td>\n",
       "      <td>4</td>\n",
       "    </tr>\n",
       "    <tr>\n",
       "      <th>1</th>\n",
       "      <td>1</td>\n",
       "      <td>Toy Story (1995)</td>\n",
       "      <td>287</td>\n",
       "      <td>5</td>\n",
       "    </tr>\n",
       "    <tr>\n",
       "      <th>2</th>\n",
       "      <td>1</td>\n",
       "      <td>Toy Story (1995)</td>\n",
       "      <td>148</td>\n",
       "      <td>4</td>\n",
       "    </tr>\n",
       "    <tr>\n",
       "      <th>3</th>\n",
       "      <td>1</td>\n",
       "      <td>Toy Story (1995)</td>\n",
       "      <td>280</td>\n",
       "      <td>4</td>\n",
       "    </tr>\n",
       "    <tr>\n",
       "      <th>4</th>\n",
       "      <td>1</td>\n",
       "      <td>Toy Story (1995)</td>\n",
       "      <td>66</td>\n",
       "      <td>3</td>\n",
       "    </tr>\n",
       "  </tbody>\n",
       "</table>\n",
       "</div>"
      ],
      "text/plain": [
       "   movie_id             title  user_id  rating\n",
       "0         1  Toy Story (1995)      308       4\n",
       "1         1  Toy Story (1995)      287       5\n",
       "2         1  Toy Story (1995)      148       4\n",
       "3         1  Toy Story (1995)      280       4\n",
       "4         1  Toy Story (1995)       66       3"
      ]
     },
     "execution_count": 15,
     "metadata": {},
     "output_type": "execute_result"
    }
   ],
   "source": [
    "ratings = pd.merge(movies, ratings)\n",
    "ratings.head()"
   ]
  },
  {
   "cell_type": "markdown",
   "id": "2c8ea3d1",
   "metadata": {},
   "source": [
    "### EAD"
   ]
  },
  {
   "cell_type": "code",
   "execution_count": 5,
   "id": "3026392c",
   "metadata": {},
   "outputs": [
    {
     "data": {
      "text/plain": [
       "(100003, 4)"
      ]
     },
     "execution_count": 5,
     "metadata": {},
     "output_type": "execute_result"
    }
   ],
   "source": [
    "ratings.shape"
   ]
  },
  {
   "cell_type": "code",
   "execution_count": 6,
   "id": "275bcaaa",
   "metadata": {},
   "outputs": [
    {
     "data": {
      "text/plain": [
       "Index(['movie_id', 'title', 'user_id', 'rating'], dtype='object')"
      ]
     },
     "execution_count": 6,
     "metadata": {},
     "output_type": "execute_result"
    }
   ],
   "source": [
    "ratings.columns"
   ]
  },
  {
   "cell_type": "markdown",
   "id": "70c341ab",
   "metadata": {},
   "source": [
    "### Transform Data"
   ]
  },
  {
   "cell_type": "code",
   "execution_count": 8,
   "id": "5333f934",
   "metadata": {},
   "outputs": [
    {
     "data": {
      "text/html": [
       "<div>\n",
       "<style scoped>\n",
       "    .dataframe tbody tr th:only-of-type {\n",
       "        vertical-align: middle;\n",
       "    }\n",
       "\n",
       "    .dataframe tbody tr th {\n",
       "        vertical-align: top;\n",
       "    }\n",
       "\n",
       "    .dataframe thead th {\n",
       "        text-align: right;\n",
       "    }\n",
       "</style>\n",
       "<table border=\"1\" class=\"dataframe\">\n",
       "  <thead>\n",
       "    <tr style=\"text-align: right;\">\n",
       "      <th>title</th>\n",
       "      <th>'Til There Was You (1997)</th>\n",
       "      <th>1-900 (1994)</th>\n",
       "      <th>101 Dalmatians (1996)</th>\n",
       "      <th>12 Angry Men (1957)</th>\n",
       "      <th>187 (1997)</th>\n",
       "      <th>2 Days in the Valley (1996)</th>\n",
       "      <th>20,000 Leagues Under the Sea (1954)</th>\n",
       "      <th>2001: A Space Odyssey (1968)</th>\n",
       "      <th>3 Ninjas: High Noon At Mega Mountain (1998)</th>\n",
       "      <th>39 Steps, The (1935)</th>\n",
       "      <th>...</th>\n",
       "      <th>Yankee Zulu (1994)</th>\n",
       "      <th>Year of the Horse (1997)</th>\n",
       "      <th>You So Crazy (1994)</th>\n",
       "      <th>Young Frankenstein (1974)</th>\n",
       "      <th>Young Guns (1988)</th>\n",
       "      <th>Young Guns II (1990)</th>\n",
       "      <th>Young Poisoner's Handbook, The (1995)</th>\n",
       "      <th>Zeus and Roxanne (1997)</th>\n",
       "      <th>unknown</th>\n",
       "      <th>Á köldum klaka (Cold Fever) (1994)</th>\n",
       "    </tr>\n",
       "    <tr>\n",
       "      <th>user_id</th>\n",
       "      <th></th>\n",
       "      <th></th>\n",
       "      <th></th>\n",
       "      <th></th>\n",
       "      <th></th>\n",
       "      <th></th>\n",
       "      <th></th>\n",
       "      <th></th>\n",
       "      <th></th>\n",
       "      <th></th>\n",
       "      <th></th>\n",
       "      <th></th>\n",
       "      <th></th>\n",
       "      <th></th>\n",
       "      <th></th>\n",
       "      <th></th>\n",
       "      <th></th>\n",
       "      <th></th>\n",
       "      <th></th>\n",
       "      <th></th>\n",
       "      <th></th>\n",
       "    </tr>\n",
       "  </thead>\n",
       "  <tbody>\n",
       "    <tr>\n",
       "      <th>0</th>\n",
       "      <td>NaN</td>\n",
       "      <td>NaN</td>\n",
       "      <td>NaN</td>\n",
       "      <td>NaN</td>\n",
       "      <td>NaN</td>\n",
       "      <td>NaN</td>\n",
       "      <td>NaN</td>\n",
       "      <td>NaN</td>\n",
       "      <td>NaN</td>\n",
       "      <td>NaN</td>\n",
       "      <td>...</td>\n",
       "      <td>NaN</td>\n",
       "      <td>NaN</td>\n",
       "      <td>NaN</td>\n",
       "      <td>NaN</td>\n",
       "      <td>NaN</td>\n",
       "      <td>NaN</td>\n",
       "      <td>NaN</td>\n",
       "      <td>NaN</td>\n",
       "      <td>NaN</td>\n",
       "      <td>NaN</td>\n",
       "    </tr>\n",
       "    <tr>\n",
       "      <th>1</th>\n",
       "      <td>NaN</td>\n",
       "      <td>NaN</td>\n",
       "      <td>2.0</td>\n",
       "      <td>5.0</td>\n",
       "      <td>NaN</td>\n",
       "      <td>NaN</td>\n",
       "      <td>3.0</td>\n",
       "      <td>4.0</td>\n",
       "      <td>NaN</td>\n",
       "      <td>NaN</td>\n",
       "      <td>...</td>\n",
       "      <td>NaN</td>\n",
       "      <td>NaN</td>\n",
       "      <td>NaN</td>\n",
       "      <td>5.0</td>\n",
       "      <td>3.0</td>\n",
       "      <td>NaN</td>\n",
       "      <td>NaN</td>\n",
       "      <td>NaN</td>\n",
       "      <td>4.0</td>\n",
       "      <td>NaN</td>\n",
       "    </tr>\n",
       "    <tr>\n",
       "      <th>2</th>\n",
       "      <td>NaN</td>\n",
       "      <td>NaN</td>\n",
       "      <td>NaN</td>\n",
       "      <td>NaN</td>\n",
       "      <td>NaN</td>\n",
       "      <td>NaN</td>\n",
       "      <td>NaN</td>\n",
       "      <td>NaN</td>\n",
       "      <td>1.0</td>\n",
       "      <td>NaN</td>\n",
       "      <td>...</td>\n",
       "      <td>NaN</td>\n",
       "      <td>NaN</td>\n",
       "      <td>NaN</td>\n",
       "      <td>NaN</td>\n",
       "      <td>NaN</td>\n",
       "      <td>NaN</td>\n",
       "      <td>NaN</td>\n",
       "      <td>NaN</td>\n",
       "      <td>NaN</td>\n",
       "      <td>NaN</td>\n",
       "    </tr>\n",
       "    <tr>\n",
       "      <th>3</th>\n",
       "      <td>NaN</td>\n",
       "      <td>NaN</td>\n",
       "      <td>NaN</td>\n",
       "      <td>NaN</td>\n",
       "      <td>2.0</td>\n",
       "      <td>NaN</td>\n",
       "      <td>NaN</td>\n",
       "      <td>NaN</td>\n",
       "      <td>NaN</td>\n",
       "      <td>NaN</td>\n",
       "      <td>...</td>\n",
       "      <td>NaN</td>\n",
       "      <td>NaN</td>\n",
       "      <td>NaN</td>\n",
       "      <td>NaN</td>\n",
       "      <td>NaN</td>\n",
       "      <td>NaN</td>\n",
       "      <td>NaN</td>\n",
       "      <td>NaN</td>\n",
       "      <td>NaN</td>\n",
       "      <td>NaN</td>\n",
       "    </tr>\n",
       "    <tr>\n",
       "      <th>4</th>\n",
       "      <td>NaN</td>\n",
       "      <td>NaN</td>\n",
       "      <td>NaN</td>\n",
       "      <td>NaN</td>\n",
       "      <td>NaN</td>\n",
       "      <td>NaN</td>\n",
       "      <td>NaN</td>\n",
       "      <td>NaN</td>\n",
       "      <td>NaN</td>\n",
       "      <td>NaN</td>\n",
       "      <td>...</td>\n",
       "      <td>NaN</td>\n",
       "      <td>NaN</td>\n",
       "      <td>NaN</td>\n",
       "      <td>NaN</td>\n",
       "      <td>NaN</td>\n",
       "      <td>NaN</td>\n",
       "      <td>NaN</td>\n",
       "      <td>NaN</td>\n",
       "      <td>NaN</td>\n",
       "      <td>NaN</td>\n",
       "    </tr>\n",
       "  </tbody>\n",
       "</table>\n",
       "<p>5 rows × 1664 columns</p>\n",
       "</div>"
      ],
      "text/plain": [
       "title    'Til There Was You (1997)  1-900 (1994)  101 Dalmatians (1996)  \\\n",
       "user_id                                                                   \n",
       "0                              NaN           NaN                    NaN   \n",
       "1                              NaN           NaN                    2.0   \n",
       "2                              NaN           NaN                    NaN   \n",
       "3                              NaN           NaN                    NaN   \n",
       "4                              NaN           NaN                    NaN   \n",
       "\n",
       "title    12 Angry Men (1957)  187 (1997)  2 Days in the Valley (1996)  \\\n",
       "user_id                                                                 \n",
       "0                        NaN         NaN                          NaN   \n",
       "1                        5.0         NaN                          NaN   \n",
       "2                        NaN         NaN                          NaN   \n",
       "3                        NaN         2.0                          NaN   \n",
       "4                        NaN         NaN                          NaN   \n",
       "\n",
       "title    20,000 Leagues Under the Sea (1954)  2001: A Space Odyssey (1968)  \\\n",
       "user_id                                                                      \n",
       "0                                        NaN                           NaN   \n",
       "1                                        3.0                           4.0   \n",
       "2                                        NaN                           NaN   \n",
       "3                                        NaN                           NaN   \n",
       "4                                        NaN                           NaN   \n",
       "\n",
       "title    3 Ninjas: High Noon At Mega Mountain (1998)  39 Steps, The (1935)  \\\n",
       "user_id                                                                      \n",
       "0                                                NaN                   NaN   \n",
       "1                                                NaN                   NaN   \n",
       "2                                                1.0                   NaN   \n",
       "3                                                NaN                   NaN   \n",
       "4                                                NaN                   NaN   \n",
       "\n",
       "title    ...  Yankee Zulu (1994)  Year of the Horse (1997)  \\\n",
       "user_id  ...                                                 \n",
       "0        ...                 NaN                       NaN   \n",
       "1        ...                 NaN                       NaN   \n",
       "2        ...                 NaN                       NaN   \n",
       "3        ...                 NaN                       NaN   \n",
       "4        ...                 NaN                       NaN   \n",
       "\n",
       "title    You So Crazy (1994)  Young Frankenstein (1974)  Young Guns (1988)  \\\n",
       "user_id                                                                      \n",
       "0                        NaN                        NaN                NaN   \n",
       "1                        NaN                        5.0                3.0   \n",
       "2                        NaN                        NaN                NaN   \n",
       "3                        NaN                        NaN                NaN   \n",
       "4                        NaN                        NaN                NaN   \n",
       "\n",
       "title    Young Guns II (1990)  Young Poisoner's Handbook, The (1995)  \\\n",
       "user_id                                                                \n",
       "0                         NaN                                    NaN   \n",
       "1                         NaN                                    NaN   \n",
       "2                         NaN                                    NaN   \n",
       "3                         NaN                                    NaN   \n",
       "4                         NaN                                    NaN   \n",
       "\n",
       "title    Zeus and Roxanne (1997)  unknown  Á köldum klaka (Cold Fever) (1994)  \n",
       "user_id                                                                        \n",
       "0                            NaN      NaN                                 NaN  \n",
       "1                            NaN      4.0                                 NaN  \n",
       "2                            NaN      NaN                                 NaN  \n",
       "3                            NaN      NaN                                 NaN  \n",
       "4                            NaN      NaN                                 NaN  \n",
       "\n",
       "[5 rows x 1664 columns]"
      ]
     },
     "execution_count": 8,
     "metadata": {},
     "output_type": "execute_result"
    }
   ],
   "source": [
    "moviesRatings = ratings.pivot_table(index=['user_id'], columns=['title'], values='rating')\n",
    "moviesRatings.head()"
   ]
  },
  {
   "cell_type": "code",
   "execution_count": 16,
   "id": "23b781a3",
   "metadata": {},
   "outputs": [
    {
     "data": {
      "text/plain": [
       "(944, 1664)"
      ]
     },
     "execution_count": 16,
     "metadata": {},
     "output_type": "execute_result"
    }
   ],
   "source": [
    "moviesRatings.shape"
   ]
  },
  {
   "cell_type": "markdown",
   "id": "5847ba75",
   "metadata": {},
   "source": [
    "### Star Wars films - get all ratings from users"
   ]
  },
  {
   "cell_type": "code",
   "execution_count": 17,
   "id": "79c44d89",
   "metadata": {},
   "outputs": [
    {
     "data": {
      "text/plain": [
       "user_id\n",
       "0    5.0\n",
       "1    5.0\n",
       "2    5.0\n",
       "3    NaN\n",
       "4    5.0\n",
       "Name: Star Wars (1977), dtype: float64"
      ]
     },
     "execution_count": 17,
     "metadata": {},
     "output_type": "execute_result"
    }
   ],
   "source": [
    "starWarsRatings = moviesRatings['Star Wars (1977)']\n",
    "starWarsRatings.head()"
   ]
  },
  {
   "cell_type": "code",
   "execution_count": 18,
   "id": "b138b221",
   "metadata": {},
   "outputs": [
    {
     "data": {
      "text/plain": [
       "360"
      ]
     },
     "execution_count": 18,
     "metadata": {},
     "output_type": "execute_result"
    }
   ],
   "source": [
    "starWarsRatings.isna().sum()"
   ]
  },
  {
   "cell_type": "code",
   "execution_count": 19,
   "id": "8e4dc0cd",
   "metadata": {},
   "outputs": [
    {
     "data": {
      "text/plain": [
       "(944,)"
      ]
     },
     "execution_count": 19,
     "metadata": {},
     "output_type": "execute_result"
    }
   ],
   "source": [
    "starWarsRatings.shape"
   ]
  },
  {
   "cell_type": "code",
   "execution_count": 20,
   "id": "a529aebf",
   "metadata": {},
   "outputs": [
    {
     "data": {
      "text/plain": [
       "4.359589041095891"
      ]
     },
     "execution_count": 20,
     "metadata": {},
     "output_type": "execute_result"
    }
   ],
   "source": [
    "starWarsRatings.mean()"
   ]
  },
  {
   "cell_type": "code",
   "execution_count": 21,
   "id": "fc08babc",
   "metadata": {},
   "outputs": [
    {
     "data": {
      "text/plain": [
       "5.0"
      ]
     },
     "execution_count": 21,
     "metadata": {},
     "output_type": "execute_result"
    }
   ],
   "source": [
    "starWarsRatings.median()"
   ]
  },
  {
   "cell_type": "code",
   "execution_count": 22,
   "id": "90eb5a1d",
   "metadata": {},
   "outputs": [
    {
     "data": {
      "text/plain": [
       "1.0"
      ]
     },
     "execution_count": 22,
     "metadata": {},
     "output_type": "execute_result"
    }
   ],
   "source": [
    "starWarsRatings.min()"
   ]
  },
  {
   "cell_type": "code",
   "execution_count": 26,
   "id": "320622fd",
   "metadata": {},
   "outputs": [
    {
     "data": {
      "text/plain": [
       "user_id\n",
       "0      5.0\n",
       "1      5.0\n",
       "2      5.0\n",
       "3      NaN\n",
       "4      5.0\n",
       "      ... \n",
       "939    NaN\n",
       "940    4.0\n",
       "941    NaN\n",
       "942    5.0\n",
       "943    4.0\n",
       "Name: Star Wars (1977), Length: 944, dtype: float64"
      ]
     },
     "execution_count": 26,
     "metadata": {},
     "output_type": "execute_result"
    }
   ],
   "source": [
    "starWarsRatings"
   ]
  },
  {
   "cell_type": "code",
   "execution_count": 33,
   "id": "4786da76",
   "metadata": {},
   "outputs": [
    {
     "data": {
      "text/plain": [
       "array([ 5.,  5.,  5., nan,  5.,  4.,  4.,  5.,  5.,  5.,  5., nan,  4.,\n",
       "        5.,  5.,  5., nan, nan,  4., nan,  3.,  3.,  5.,  4., nan,  5.,\n",
       "        4.,  3.,  4., nan,  3., nan,  4., nan, nan, nan, nan,  5., nan,\n",
       "       nan, nan,  5.,  5.,  4.,  5.,  5.,  4., nan,  4.,  1., nan,  5.,\n",
       "       nan,  4.,  5.,  4.,  5.,  5.,  4.,  5.,  5., nan,  5.,  4.,  5.,\n",
       "        5.,  5., nan,  5.,  5.,  4.,  3.,  2., nan, nan, nan, nan,  4.,\n",
       "       nan,  4.,  3., nan,  5.,  3., nan,  5., nan,  5., nan,  5., nan,\n",
       "        5.,  5., nan,  5.,  5.,  5.,  5., nan,  5., nan,  4.,  4.,  5.,\n",
       "        5., nan, nan, nan,  4.,  5., nan, nan, nan,  5., nan,  5.,  3.,\n",
       "        5., nan,  5.,  4.,  5., nan,  3.,  3.,  5., nan,  4.,  4., nan,\n",
       "        5., nan,  3., nan, nan, nan, nan,  5., nan, nan, nan,  4., nan,\n",
       "       nan,  5.,  5., nan, nan,  5., nan,  5.,  5., nan,  1.,  5., nan,\n",
       "       nan,  4.,  4., nan,  4.,  2.,  5., nan, nan, nan, nan, nan, nan,\n",
       "        5., nan, nan, nan, nan,  4.,  5.,  5.,  5.,  5., nan, nan, nan,\n",
       "        5.,  2.,  4.,  4., nan, nan,  4.,  5., nan, nan,  4., nan,  3.,\n",
       "       nan, nan,  5.,  5., nan,  5.,  4., nan,  5., nan, nan, nan, nan,\n",
       "       nan,  5.,  5., nan, nan,  5.,  3.,  5.,  4.,  1., nan, nan, nan,\n",
       "        4.,  4., nan, nan, nan, nan,  4., nan, nan,  5.,  4.,  4.,  3.,\n",
       "        4.,  5.,  3., nan, nan,  5., nan, nan, nan, nan,  5.,  4.,  5.,\n",
       "        5.,  5.,  4.,  5.,  5., nan,  4.,  5., nan,  4.,  5., nan, nan,\n",
       "       nan, nan,  2.,  5., nan,  2., nan,  5.,  5.,  3.,  5.,  5.,  4.,\n",
       "       nan,  5.,  4.,  5.,  3., nan,  3.,  3., nan, nan,  5., nan, nan,\n",
       "        4.,  5.,  4., nan,  5.,  5.,  4.,  5.,  5.,  5.,  5.,  5.,  5.,\n",
       "        4., nan,  5., nan,  5., nan,  5., nan,  5.,  5., nan,  5.,  5.,\n",
       "        5.,  5., nan, nan,  1., nan,  2., nan,  4.,  4.,  5.,  5.,  5.,\n",
       "        5.,  5.,  3.,  4.,  4.,  5., nan,  5., nan,  5., nan,  4.,  5.,\n",
       "       nan,  4.,  4., nan, nan,  5.,  5.,  5.,  5.,  5., nan, nan,  5.,\n",
       "       nan,  5., nan,  4., nan, nan, nan, nan,  5.,  4.,  5., nan,  5.,\n",
       "       nan, nan, nan,  5.,  4.,  5.,  4.,  4., nan,  5.,  3., nan, nan,\n",
       "       nan,  4.,  4.,  4.,  5.,  1., nan, nan,  1.,  4.,  5., nan,  5.,\n",
       "       nan,  4.,  5.,  5.,  5.,  5., nan,  5.,  5.,  3., nan,  1.,  4.,\n",
       "        5., nan,  5.,  5.,  4., nan,  5., nan,  5., nan,  5., nan, nan,\n",
       "        5.,  3., nan,  5., nan,  5.,  4., nan,  3.,  5.,  4., nan, nan,\n",
       "        5.,  4., nan,  5.,  5., nan,  5.,  4.,  5.,  5., nan, nan, nan,\n",
       "       nan, nan,  5.,  2., nan,  5., nan, nan,  5., nan,  5.,  5.,  4.,\n",
       "        5.,  4.,  5.,  2.,  4., nan,  3., nan,  4.,  4.,  4.,  5.,  4.,\n",
       "        5., nan,  5.,  3.,  5., nan,  5.,  5., nan, nan,  3.,  4.,  4.,\n",
       "        4.,  4.,  5.,  5., nan,  5.,  4.,  4., nan,  5., nan, nan,  5.,\n",
       "        5.,  5.,  5.,  5.,  4.,  3.,  3., nan, nan,  5.,  3.,  3.,  5.,\n",
       "        5.,  5.,  5., nan, nan,  5.,  5.,  5., nan,  5.,  5., nan, nan,\n",
       "       nan,  4., nan,  5.,  4., nan,  5.,  4.,  5., nan,  4., nan, nan,\n",
       "        5., nan,  5.,  5.,  4.,  5.,  3.,  5.,  5.,  4., nan, nan,  5.,\n",
       "        5., nan,  5.,  5.,  5.,  2.,  4.,  4.,  4.,  5., nan,  4., nan,\n",
       "       nan,  5.,  3.,  5.,  5.,  4., nan,  2.,  1., nan,  5., nan, nan,\n",
       "       nan,  4., nan,  2.,  4.,  4., nan,  5.,  5.,  4.,  5., nan,  4.,\n",
       "       nan,  4., nan,  5., nan, nan, nan,  5.,  4.,  3.,  5.,  5.,  5.,\n",
       "       nan, nan,  4.,  5.,  5.,  5., nan, nan,  5., nan,  1., nan,  4.,\n",
       "       nan, nan,  5., nan, nan, nan, nan,  5.,  4.,  4.,  5.,  5.,  5.,\n",
       "        5.,  5., nan, nan, nan,  5.,  3., nan,  5.,  4.,  4., nan, nan,\n",
       "        4.,  4., nan, nan,  3.,  5.,  4.,  4.,  4., nan, nan,  5.,  4.,\n",
       "        5., nan, nan,  5.,  5.,  4., nan, nan,  4.,  3.,  4.,  5.,  3.,\n",
       "        5.,  5.,  4.,  3., nan,  5.,  5., nan,  5.,  3., nan,  4., nan,\n",
       "        5., nan,  4.,  5.,  5., nan,  5., nan,  4., nan,  4., nan, nan,\n",
       "        5., nan,  4., nan,  3.,  5., nan, nan,  5.,  5.,  3.,  5.,  5.,\n",
       "       nan,  5.,  5.,  4.,  5., nan,  5.,  5.,  4.,  4.,  4., nan,  5.,\n",
       "        5.,  5.,  4., nan,  2., nan,  5., nan,  4., nan, nan, nan,  4.,\n",
       "       nan, nan,  4., nan, nan, nan,  4.,  5.,  3., nan,  5.,  4., nan,\n",
       "        5.,  4., nan,  3.,  2.,  5.,  5.,  5.,  5., nan,  5., nan,  4.,\n",
       "       nan, nan,  4.,  4.,  4.,  4.,  3.,  5., nan,  4.,  3.,  2.,  4.,\n",
       "       nan,  4., nan,  3.,  4., nan,  5.,  4., nan,  5., nan, nan,  5.,\n",
       "        5.,  5.,  3., nan, nan,  5.,  4., nan, nan,  5.,  4.,  5., nan,\n",
       "        5.,  5.,  3.,  5.,  5.,  5.,  4.,  4., nan, nan, nan,  4.,  4.,\n",
       "        5.,  5., nan, nan, nan, nan, nan, nan, nan,  5., nan, nan, nan,\n",
       "       nan, nan, nan, nan,  5., nan,  4.,  5., nan, nan, nan,  5.,  5.,\n",
       "        3.,  2.,  5.,  4., nan, nan,  5.,  5.,  4., nan, nan,  3.,  5.,\n",
       "       nan,  5.,  4.,  5., nan,  5.,  5.,  5., nan,  4., nan, nan, nan,\n",
       "       nan, nan, nan, nan,  5., nan,  5., nan, nan,  5.,  5.,  4.,  3.,\n",
       "        5., nan, nan, nan,  5., nan, nan,  4.,  4.,  5.,  3.,  5.,  4.,\n",
       "       nan,  3.,  5.,  5., nan,  4.,  5.,  4.,  5.,  5.,  4.,  5.,  5.,\n",
       "        5., nan,  5., nan,  4.,  5.,  5., nan, nan, nan,  4.,  4., nan,\n",
       "        5., nan, nan,  4., nan, nan,  5.,  3., nan,  3., nan,  4.,  5.,\n",
       "        5.,  5., nan, nan, nan, nan,  4.,  2.,  3., nan,  4.,  5., nan,\n",
       "        4.,  5.,  5., nan,  4., nan,  5.,  4.])"
      ]
     },
     "execution_count": 33,
     "metadata": {},
     "output_type": "execute_result"
    }
   ],
   "source": [
    "starWarsRatings.values"
   ]
  },
  {
   "cell_type": "code",
   "execution_count": 23,
   "id": "2f01f9bb",
   "metadata": {},
   "outputs": [],
   "source": [
    "import matplotlib.pyplot as plt"
   ]
  },
  {
   "cell_type": "code",
   "execution_count": 37,
   "id": "c2cc1858",
   "metadata": {},
   "outputs": [
    {
     "data": {
      "text/plain": [
       "<matplotlib.collections.PathCollection at 0x283228a5790>"
      ]
     },
     "execution_count": 37,
     "metadata": {},
     "output_type": "execute_result"
    },
    {
     "data": {
      "image/png": "[encoded data removed]",
      "text/plain": [
       "<Figure size 432x288 with 1 Axes>"
      ]
     },
     "metadata": {
      "needs_background": "light"
     },
     "output_type": "display_data"
    }
   ],
   "source": [
    "plt.scatter(x= starWarsRatings, y=starWarsRatings.values)"
   ]
  },
  {
   "cell_type": "code",
   "execution_count": null,
   "id": "19f2e0db",
   "metadata": {},
   "outputs": [],
   "source": []
  }
 ],
 "metadata": {
  "kernelspec": {
   "display_name": "Python 3 (ipykernel)",
   "language": "python",
   "name": "python3"
  },
  "language_info": {
   "codemirror_mode": {
    "name": "ipython",
    "version": 3
   },
   "file_extension": ".py",
   "mimetype": "text/x-python",
   "name": "python",
   "nbconvert_exporter": "python",
   "pygments_lexer": "ipython3",
   "version": "3.9.12"
  }
 },
 "nbformat": 4,
 "nbformat_minor": 5
}
