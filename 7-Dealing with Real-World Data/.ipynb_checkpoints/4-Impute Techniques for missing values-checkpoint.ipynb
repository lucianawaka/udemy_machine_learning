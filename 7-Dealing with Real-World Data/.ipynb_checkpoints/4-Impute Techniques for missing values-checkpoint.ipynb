{
 "cells": [
  {
   "cell_type": "markdown",
   "id": "a59a94af",
   "metadata": {},
   "source": [
    "## Imputing missing values"
   ]
  },
  {
   "cell_type": "code",
   "execution_count": 1,
   "id": "041bef5b",
   "metadata": {},
   "outputs": [],
   "source": [
    "# Libs\n",
    "import pandas as pd\n",
    "import numpy as np"
   ]
  },
  {
   "cell_type": "code",
   "execution_count": 2,
   "id": "45a64209",
   "metadata": {},
   "outputs": [],
   "source": [
    "data = {'nome':['Isaac','Luciana','Rafa'], 'idade':[np.nan,31,37] }"
   ]
  },
  {
   "cell_type": "code",
   "execution_count": 3,
   "id": "3bcf9338",
   "metadata": {},
   "outputs": [],
   "source": [
    "df = pd.DataFrame(data)"
   ]
  },
  {
   "cell_type": "code",
   "execution_count": 4,
   "id": "e723d664",
   "metadata": {},
   "outputs": [
    {
     "data": {
      "text/plain": [
       "<bound method DataFrame.isna of       nome  idade\n",
       "0    Isaac    NaN\n",
       "1  Luciana   31.0\n",
       "2     Rafa   37.0>"
      ]
     },
     "execution_count": 4,
     "metadata": {},
     "output_type": "execute_result"
    }
   ],
   "source": [
    "df.isna"
   ]
  },
  {
   "cell_type": "markdown",
   "id": "102491e3",
   "metadata": {},
   "source": [
    "### 1 - With mean - not the best choice\n",
    "## TIP - With a lot of outliers - use de median() instead"
   ]
  },
  {
   "cell_type": "code",
   "execution_count": 5,
   "id": "95263ce7",
   "metadata": {},
   "outputs": [],
   "source": [
    "df['idade'].fillna(df['idade'].mean(), inplace=True)"
   ]
  },
  {
   "cell_type": "code",
   "execution_count": 6,
   "id": "55ac2e9e",
   "metadata": {},
   "outputs": [
    {
     "data": {
      "text/plain": [
       "<bound method DataFrame.isna of       nome  idade\n",
       "0    Isaac   34.0\n",
       "1  Luciana   31.0\n",
       "2     Rafa   37.0>"
      ]
     },
     "execution_count": 6,
     "metadata": {},
     "output_type": "execute_result"
    }
   ],
   "source": [
    "df.isna"
   ]
  },
  {
   "cell_type": "code",
   "execution_count": null,
   "id": "68f3f359",
   "metadata": {},
   "outputs": [],
   "source": []
  }
 ],
 "metadata": {
  "kernelspec": {
   "display_name": "Python 3 (ipykernel)",
   "language": "python",
   "name": "python3"
  },
  "language_info": {
   "codemirror_mode": {
    "name": "ipython",
    "version": 3
   },
   "file_extension": ".py",
   "mimetype": "text/x-python",
   "name": "python",
   "nbconvert_exporter": "python",
   "pygments_lexer": "ipython3",
   "version": "3.9.12"
  }
 },
 "nbformat": 4,
 "nbformat_minor": 5
}
